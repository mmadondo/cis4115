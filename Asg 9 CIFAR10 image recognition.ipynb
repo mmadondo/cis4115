{
 "cells": [
  {
   "cell_type": "markdown",
   "metadata": {},
   "source": [
    "# Asg 9 CIFAR10 image recognition\n",
    "Load the keras libraries\n"
   ]
  },
  {
   "cell_type": "code",
   "execution_count": 127,
   "metadata": {},
   "outputs": [],
   "source": [
    "import keras\n",
    "from keras.datasets import cifar10\n",
    "from keras.preprocessing.image import ImageDataGenerator\n",
    "from keras.models import Sequential\n",
    "from keras.layers import Dense, Dropout, Activation, Flatten\n",
    "from keras.layers import Conv2D, MaxPooling2D"
   ]
  },
  {
   "cell_type": "markdown",
   "metadata": {},
   "source": [
    "# Load tye image data, normalize and reshape it\n",
    "Note: These images are 32x32 pixels <br>\n",
    "This may take awile the first time"
   ]
  },
  {
   "cell_type": "code",
   "execution_count": 128,
   "metadata": {},
   "outputs": [
    {
     "name": "stdout",
     "output_type": "stream",
     "text": [
      "x_train shape: (50000, 32, 32, 3)\n",
      "50000 train samples\n",
      "10000 test samples\n"
     ]
    }
   ],
   "source": [
    "# The data, split between train and test sets:\n",
    "(x_train, y_train), (x_test, y_test) = cifar10.load_data()\n",
    "print('x_train shape:', x_train.shape)\n",
    "print(x_train.shape[0], 'train samples')\n",
    "print(x_test.shape[0], 'test samples')"
   ]
  },
  {
   "cell_type": "code",
   "execution_count": 129,
   "metadata": {},
   "outputs": [],
   "source": [
    "x_train = x_train.astype('float32')\n",
    "x_test = x_test.astype('float32')\n",
    "x_train /= 255\n",
    "x_test /= 255"
   ]
  },
  {
   "cell_type": "code",
   "execution_count": 130,
   "metadata": {},
   "outputs": [],
   "source": [
    "# Convert class vectors to binary class matrices.\n",
    "num_classes = 10\n",
    "y_train = keras.utils.to_categorical(y_train, num_classes)\n",
    "y_test = keras.utils.to_categorical(y_test, num_classes)"
   ]
  },
  {
   "cell_type": "markdown",
   "metadata": {},
   "source": [
    "# Set up the CNN model and run it"
   ]
  },
  {
   "cell_type": "code",
   "execution_count": 131,
   "metadata": {},
   "outputs": [
    {
     "name": "stdout",
     "output_type": "stream",
     "text": [
      "Neural Network Model created!\n"
     ]
    }
   ],
   "source": [
    "model = Sequential()\n",
    "model.add(Conv2D(16, kernel_size=(3, 3), activation='relu', padding='same', input_shape=(32,32,3)))\n",
    "model.add(MaxPooling2D(pool_size=(2, 2)))\n",
    "model.add(Conv2D(16, (3, 3), activation='relu'))\n",
    "model.add(MaxPooling2D(pool_size=(2, 2)))\n",
    "model.add(Dropout(0.1))\n",
    "\n",
    "model.add(Conv2D(32, (3, 3), activation='relu', padding='same'))\n",
    "model.add(Conv2D(32, (3, 3), activation='relu', padding='same'))\n",
    "model.add(MaxPooling2D(pool_size=(2, 2)))\n",
    "model.add(Dropout(0.2))\n",
    "\n",
    "model.add(Conv2D(64, (3, 3), activation='relu', padding='same'))\n",
    "model.add(Conv2D(64, (3, 3), activation='relu', padding='same'))\n",
    "model.add(MaxPooling2D(pool_size=(2, 2)))\n",
    "model.add(Dropout(0.3))\n",
    "\n",
    "model.add(Flatten())\n",
    "model.add(Dense(64, activation='relu'))\n",
    "model.add(Dense(32, activation='relu'))\n",
    "model.add(Dense(10, activation='softmax'))\n",
    "print (\"Neural Network Model created!\")"
   ]
  },
  {
   "cell_type": "code",
   "execution_count": 132,
   "metadata": {},
   "outputs": [],
   "source": [
    "# 8. Compile model\n",
    "model.compile(optimizer='adam', loss='categorical_crossentropy', metrics=['accuracy'])"
   ]
  },
  {
   "cell_type": "code",
   "execution_count": 133,
   "metadata": {},
   "outputs": [
    {
     "name": "stdout",
     "output_type": "stream",
     "text": [
      "Train on 50000 samples, validate on 10000 samples\n",
      "Epoch 1/20\n",
      " - 42s - loss: 1.8605 - acc: 0.2899 - val_loss: 1.5648 - val_acc: 0.4192\n",
      "Epoch 2/20\n",
      " - 40s - loss: 1.5182 - acc: 0.4372 - val_loss: 1.3319 - val_acc: 0.5059\n",
      "Epoch 3/20\n",
      " - 41s - loss: 1.3718 - acc: 0.4975 - val_loss: 1.2454 - val_acc: 0.5467\n",
      "Epoch 4/20\n",
      " - 40s - loss: 1.2787 - acc: 0.5361 - val_loss: 1.1736 - val_acc: 0.5780\n",
      "Epoch 5/20\n",
      " - 40s - loss: 1.2141 - acc: 0.5661 - val_loss: 1.1132 - val_acc: 0.5998\n",
      "Epoch 6/20\n",
      " - 41s - loss: 1.1637 - acc: 0.5842 - val_loss: 1.0587 - val_acc: 0.6227\n",
      "Epoch 7/20\n",
      " - 40s - loss: 1.1207 - acc: 0.6028 - val_loss: 1.0436 - val_acc: 0.6275\n",
      "Epoch 8/20\n",
      " - 40s - loss: 1.0833 - acc: 0.6179 - val_loss: 1.0047 - val_acc: 0.6483\n",
      "Epoch 9/20\n",
      " - 40s - loss: 1.0542 - acc: 0.6266 - val_loss: 0.9988 - val_acc: 0.6481\n",
      "Epoch 10/20\n",
      " - 40s - loss: 1.0233 - acc: 0.6393 - val_loss: 0.9533 - val_acc: 0.6682\n",
      "Epoch 11/20\n",
      " - 40s - loss: 0.9895 - acc: 0.6535 - val_loss: 0.9313 - val_acc: 0.6809\n",
      "Epoch 12/20\n",
      " - 40s - loss: 0.9741 - acc: 0.6603 - val_loss: 0.9110 - val_acc: 0.6806\n",
      "Epoch 13/20\n",
      " - 40s - loss: 0.9527 - acc: 0.6688 - val_loss: 0.9179 - val_acc: 0.6808\n",
      "Epoch 14/20\n",
      " - 41s - loss: 0.9330 - acc: 0.6749 - val_loss: 0.9251 - val_acc: 0.6803\n",
      "Epoch 15/20\n",
      " - 41s - loss: 0.9103 - acc: 0.6819 - val_loss: 0.9079 - val_acc: 0.6832\n",
      "Epoch 16/20\n",
      " - 41s - loss: 0.9022 - acc: 0.6879 - val_loss: 0.8518 - val_acc: 0.7067\n",
      "Epoch 17/20\n",
      " - 40s - loss: 0.8874 - acc: 0.6913 - val_loss: 0.8657 - val_acc: 0.6993\n",
      "Epoch 18/20\n",
      " - 41s - loss: 0.8646 - acc: 0.6982 - val_loss: 0.8711 - val_acc: 0.6953\n",
      "Epoch 19/20\n",
      " - 40s - loss: 0.8617 - acc: 0.7010 - val_loss: 0.8409 - val_acc: 0.7087\n",
      "Epoch 20/20\n",
      " - 40s - loss: 0.8497 - acc: 0.7031 - val_loss: 0.8324 - val_acc: 0.7106\n",
      "Running final scoring on test data\n",
      "10000/10000 [==============================] - 3s 345us/step\n"
     ]
    }
   ],
   "source": [
    "# 9. Fit model on training data for network with CNN input layer\n",
    "batch_size = 64\n",
    "epochs = 20\n",
    "\n",
    "model.fit(x_train, y_train,\n",
    "          batch_size=batch_size,\n",
    "          epochs=epochs,\n",
    "          verbose=2,\n",
    "          validation_data=(x_test, y_test))\n",
    "# 10. Evaluate model on test data\n",
    "print (\"Running final scoring on test data\")\n",
    "score = model.evaluate(x_test, y_test, verbose=1)"
   ]
  },
  {
   "cell_type": "code",
   "execution_count": 134,
   "metadata": {},
   "outputs": [
    {
     "name": "stdout",
     "output_type": "stream",
     "text": [
      "_________________________________________________________________\n",
      "Layer (type)                 Output Shape              Param #   \n",
      "=================================================================\n",
      "conv2d_263 (Conv2D)          (None, 32, 32, 16)        448       \n",
      "_________________________________________________________________\n",
      "max_pooling2d_182 (MaxPoolin (None, 16, 16, 16)        0         \n",
      "_________________________________________________________________\n",
      "conv2d_264 (Conv2D)          (None, 14, 14, 16)        2320      \n",
      "_________________________________________________________________\n",
      "max_pooling2d_183 (MaxPoolin (None, 7, 7, 16)          0         \n",
      "_________________________________________________________________\n",
      "dropout_116 (Dropout)        (None, 7, 7, 16)          0         \n",
      "_________________________________________________________________\n",
      "conv2d_265 (Conv2D)          (None, 7, 7, 32)          4640      \n",
      "_________________________________________________________________\n",
      "conv2d_266 (Conv2D)          (None, 7, 7, 32)          9248      \n",
      "_________________________________________________________________\n",
      "max_pooling2d_184 (MaxPoolin (None, 3, 3, 32)          0         \n",
      "_________________________________________________________________\n",
      "dropout_117 (Dropout)        (None, 3, 3, 32)          0         \n",
      "_________________________________________________________________\n",
      "conv2d_267 (Conv2D)          (None, 3, 3, 64)          18496     \n",
      "_________________________________________________________________\n",
      "conv2d_268 (Conv2D)          (None, 3, 3, 64)          36928     \n",
      "_________________________________________________________________\n",
      "max_pooling2d_185 (MaxPoolin (None, 1, 1, 64)          0         \n",
      "_________________________________________________________________\n",
      "dropout_118 (Dropout)        (None, 1, 1, 64)          0         \n",
      "_________________________________________________________________\n",
      "flatten_30 (Flatten)         (None, 64)                0         \n",
      "_________________________________________________________________\n",
      "dense_73 (Dense)             (None, 64)                4160      \n",
      "_________________________________________________________________\n",
      "dense_74 (Dense)             (None, 32)                2080      \n",
      "_________________________________________________________________\n",
      "dense_75 (Dense)             (None, 10)                330       \n",
      "=================================================================\n",
      "Total params: 78,650\n",
      "Trainable params: 78,650\n",
      "Non-trainable params: 0\n",
      "_________________________________________________________________\n"
     ]
    }
   ],
   "source": [
    "model.summary()"
   ]
  },
  {
   "cell_type": "code",
   "execution_count": null,
   "metadata": {},
   "outputs": [],
   "source": []
  }
 ],
 "metadata": {
  "kernelspec": {
   "display_name": "Python 3",
   "language": "python",
   "name": "python3"
  },
  "language_info": {
   "codemirror_mode": {
    "name": "ipython",
    "version": 3
   },
   "file_extension": ".py",
   "mimetype": "text/x-python",
   "name": "python",
   "nbconvert_exporter": "python",
   "pygments_lexer": "ipython3",
   "version": "3.6.4"
  }
 },
 "nbformat": 4,
 "nbformat_minor": 2
}
