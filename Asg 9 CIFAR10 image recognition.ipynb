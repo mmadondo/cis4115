{
 "cells": [
  {
   "cell_type": "markdown",
   "metadata": {},
   "source": [
    "# Asg 9 CIFAR10 image recognition\n",
    "Load the keras libraries\n"
   ]
  },
  {
   "cell_type": "code",
   "execution_count": 96,
   "metadata": {},
   "outputs": [],
   "source": [
    "import keras\n",
    "from keras.datasets import cifar10\n",
    "from keras.preprocessing.image import ImageDataGenerator\n",
    "from keras.models import Sequential\n",
    "from keras.layers import Dense, Dropout, Activation, Flatten\n",
    "from keras.layers import Conv2D, MaxPooling2D"
   ]
  },
  {
   "cell_type": "markdown",
   "metadata": {},
   "source": [
    "# Load tye image data, normalize and reshape it\n",
    "Note: These images are 32x32 pixels <br>\n",
    "This may take awile the first time"
   ]
  },
  {
   "cell_type": "code",
   "execution_count": 89,
   "metadata": {},
   "outputs": [
    {
     "name": "stdout",
     "output_type": "stream",
     "text": [
      "x_train shape: (50000, 32, 32, 3)\n",
      "50000 train samples\n",
      "10000 test samples\n"
     ]
    }
   ],
   "source": [
    "# The data, split between train and test sets:\n",
    "(x_train, y_train), (x_test, y_test) = cifar10.load_data()\n",
    "print('x_train shape:', x_train.shape)\n",
    "print(x_train.shape[0], 'train samples')\n",
    "print(x_test.shape[0], 'test samples')"
   ]
  },
  {
   "cell_type": "code",
   "execution_count": 90,
   "metadata": {},
   "outputs": [],
   "source": [
    "x_train = x_train.astype('float32')\n",
    "x_test = x_test.astype('float32')\n",
    "x_train /= 255\n",
    "x_test /= 255"
   ]
  },
  {
   "cell_type": "code",
   "execution_count": 91,
   "metadata": {},
   "outputs": [],
   "source": [
    "# Convert class vectors to binary class matrices.\n",
    "num_classes = 10\n",
    "y_train = keras.utils.to_categorical(y_train, num_classes)\n",
    "y_test = keras.utils.to_categorical(y_test, num_classes)"
   ]
  },
  {
   "cell_type": "markdown",
   "metadata": {},
   "source": [
    "# Set up the CNN model and run it"
   ]
  },
  {
   "cell_type": "code",
   "execution_count": 92,
   "metadata": {},
   "outputs": [
    {
     "name": "stdout",
     "output_type": "stream",
     "text": [
      "Neural Network Model created!\n"
     ]
    }
   ],
   "source": [
    "model = Sequential()\n",
    "model.add(Conv2D(16, kernel_size=(3, 3), activation='relu', padding='same', input_shape=(32,32,3)))\n",
    "model.add(MaxPooling2D(pool_size=(2, 2)))\n",
    "model.add(Conv2D(16, (3, 3), activation='relu'))\n",
    "model.add(MaxPooling2D(pool_size=(2, 2)))\n",
    "model.add(Dropout(0.1))\n",
    "\n",
    "model.add(Conv2D(32, (3, 3), activation='relu', padding='same'))\n",
    "model.add(Conv2D(32, (3, 3), activation='relu', padding='same'))\n",
    "model.add(MaxPooling2D(pool_size=(2, 2)))\n",
    "model.add(Dropout(0.2))\n",
    "\n",
    "model.add(Conv2D(48, (3, 3), activation='relu', padding='same'))\n",
    "model.add(Conv2D(48, (3, 3), activation='relu', padding='same'))\n",
    "model.add(MaxPooling2D(pool_size=(2, 2)))\n",
    "model.add(Dropout(0.25))\n",
    "\n",
    "model.add(Conv2D(64, (3, 3), activation='relu', padding='same'))\n",
    "model.add(Conv2D(64, (3, 3), activation='relu', padding='same'))\n",
    "model.add(MaxPooling2D(pool_size=(2, 2)))\n",
    "model.add(Dropout(0.3))\n",
    "\n",
    "model.add(Flatten())\n",
    "model.add(Dense(64, activation='relu'))\n",
    "model.add(Dense(32, activation='relu'))\n",
    "model.add(Dense(10, activation='softmax'))\n",
    "print (\"Neural Network Model created!\")"
   ]
  },
  {
   "cell_type": "code",
   "execution_count": 93,
   "metadata": {},
   "outputs": [],
   "source": [
    "# 8. Compile model\n",
    "model.compile(optimizer='adam', loss='categorical_crossentropy', metrics=['accuracy'])"
   ]
  },
  {
   "cell_type": "code",
   "execution_count": 94,
   "metadata": {},
   "outputs": [
    {
     "name": "stdout",
     "output_type": "stream",
     "text": [
      "Train on 50000 samples, validate on 10000 samples\n",
      "Epoch 1/15\n",
      " - 38s - loss: 1.8204 - acc: 0.3086 - val_loss: 1.4770 - val_acc: 0.4482\n",
      "Epoch 2/15\n",
      " - 37s - loss: 1.4835 - acc: 0.4538 - val_loss: 1.3354 - val_acc: 0.5098\n",
      "Epoch 3/15\n",
      " - 37s - loss: 1.3717 - acc: 0.5004 - val_loss: 1.2272 - val_acc: 0.5559\n",
      "Epoch 4/15\n",
      " - 37s - loss: 1.2952 - acc: 0.5317 - val_loss: 1.1758 - val_acc: 0.5708\n",
      "Epoch 5/15\n",
      " - 38s - loss: 1.2345 - acc: 0.5534 - val_loss: 1.1417 - val_acc: 0.5881\n",
      "Epoch 6/15\n",
      " - 37s - loss: 1.1845 - acc: 0.5723 - val_loss: 1.1098 - val_acc: 0.6023\n",
      "Epoch 7/15\n",
      " - 40s - loss: 1.1464 - acc: 0.5888 - val_loss: 1.0797 - val_acc: 0.6167\n",
      "Epoch 8/15\n",
      " - 41s - loss: 1.1142 - acc: 0.5996 - val_loss: 1.0194 - val_acc: 0.6409\n",
      "Epoch 9/15\n",
      " - 40s - loss: 1.0821 - acc: 0.6154 - val_loss: 1.0134 - val_acc: 0.6422\n",
      "Epoch 10/15\n",
      " - 37s - loss: 1.0582 - acc: 0.6225 - val_loss: 0.9741 - val_acc: 0.6552\n",
      "Epoch 11/15\n",
      " - 38s - loss: 1.0357 - acc: 0.6350 - val_loss: 0.9685 - val_acc: 0.6585\n",
      "Epoch 12/15\n",
      " - 38s - loss: 1.0184 - acc: 0.6405 - val_loss: 0.9467 - val_acc: 0.6646\n",
      "Epoch 13/15\n",
      " - 38s - loss: 0.9952 - acc: 0.6488 - val_loss: 0.9223 - val_acc: 0.6795\n",
      "Epoch 14/15\n",
      " - 38s - loss: 0.9876 - acc: 0.6531 - val_loss: 0.9494 - val_acc: 0.6648\n",
      "Epoch 15/15\n",
      " - 38s - loss: 0.9678 - acc: 0.6579 - val_loss: 0.9295 - val_acc: 0.6762\n",
      "Running final scoring on test data\n",
      "10000/10000 [==============================] - 3s 285us/step\n"
     ]
    }
   ],
   "source": [
    "# 9. Fit model on training data for network with CNN input layer\n",
    "batch_size = 64\n",
    "epochs = 15\n",
    "\n",
    "model.fit(x_train, y_train,\n",
    "          batch_size=batch_size,\n",
    "          epochs=epochs,\n",
    "          verbose=2,\n",
    "          validation_data=(x_test, y_test))\n",
    "# 10. Evaluate model on test data\n",
    "print (\"Running final scoring on test data\")\n",
    "score = model.evaluate(x_test, y_test, verbose=1)"
   ]
  },
  {
   "cell_type": "code",
   "execution_count": 95,
   "metadata": {},
   "outputs": [
    {
     "name": "stdout",
     "output_type": "stream",
     "text": [
      "_________________________________________________________________\n",
      "Layer (type)                 Output Shape              Param #   \n",
      "=================================================================\n",
      "conv2d_120 (Conv2D)          (None, 32, 32, 16)        448       \n",
      "_________________________________________________________________\n",
      "max_pooling2d_88 (MaxPooling (None, 16, 16, 16)        0         \n",
      "_________________________________________________________________\n",
      "conv2d_121 (Conv2D)          (None, 14, 14, 16)        2320      \n",
      "_________________________________________________________________\n",
      "max_pooling2d_89 (MaxPooling (None, 7, 7, 16)          0         \n",
      "_________________________________________________________________\n",
      "dropout_52 (Dropout)         (None, 7, 7, 16)          0         \n",
      "_________________________________________________________________\n",
      "conv2d_122 (Conv2D)          (None, 7, 7, 32)          4640      \n",
      "_________________________________________________________________\n",
      "conv2d_123 (Conv2D)          (None, 7, 7, 32)          9248      \n",
      "_________________________________________________________________\n",
      "max_pooling2d_90 (MaxPooling (None, 3, 3, 32)          0         \n",
      "_________________________________________________________________\n",
      "dropout_53 (Dropout)         (None, 3, 3, 32)          0         \n",
      "_________________________________________________________________\n",
      "conv2d_124 (Conv2D)          (None, 3, 3, 64)          18496     \n",
      "_________________________________________________________________\n",
      "max_pooling2d_91 (MaxPooling (None, 1, 1, 64)          0         \n",
      "_________________________________________________________________\n",
      "dropout_54 (Dropout)         (None, 1, 1, 64)          0         \n",
      "_________________________________________________________________\n",
      "flatten_19 (Flatten)         (None, 64)                0         \n",
      "_________________________________________________________________\n",
      "dense_40 (Dense)             (None, 32)                2080      \n",
      "_________________________________________________________________\n",
      "dense_41 (Dense)             (None, 64)                2112      \n",
      "_________________________________________________________________\n",
      "dense_42 (Dense)             (None, 10)                650       \n",
      "=================================================================\n",
      "Total params: 39,994\n",
      "Trainable params: 39,994\n",
      "Non-trainable params: 0\n",
      "_________________________________________________________________\n"
     ]
    }
   ],
   "source": [
    "model.summary()"
   ]
  },
  {
   "cell_type": "code",
   "execution_count": null,
   "metadata": {},
   "outputs": [],
   "source": []
  }
 ],
 "metadata": {
  "kernelspec": {
   "display_name": "Python 3",
   "language": "python",
   "name": "python3"
  },
  "language_info": {
   "codemirror_mode": {
    "name": "ipython",
    "version": 3
   },
   "file_extension": ".py",
   "mimetype": "text/x-python",
   "name": "python",
   "nbconvert_exporter": "python",
   "pygments_lexer": "ipython3",
   "version": "3.6.4"
  }
 },
 "nbformat": 4,
 "nbformat_minor": 2
}
